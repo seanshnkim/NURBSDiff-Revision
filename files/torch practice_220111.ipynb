{
 "cells": [
  {
   "cell_type": "markdown",
   "id": "5f2e995d",
   "metadata": {},
   "source": [
    "import torch.nn as nn\n",
    "import numpy as np\n",
    "import torch\n",
    "\n",
    "tensorA = torch.tensor([4, 2, 7])\n",
    "print(tensorA.dtype)\n",
    "tensorT = torch.Tensor([4,2,7])\n",
    "print(tensorT.dtype)\n",
    "tensorA_float = torch.tensor([4,2,7], dtype = torch.float32)\n",
    "\n",
    "\n",
    "tensorA_softmax = nn.functional.softmax(tensorA_float, dim = 0)\n",
    "\n",
    "tensorB = torch.tensor([4,2], dtype = torch.float32)\n",
    "tensorB_softmax = nn.functional.softmax(tensorB)\n",
    "#tensorB_logit = tensorB\n",
    "\n",
    "print(\"tensorB_softmax : \", tensorB_softmax)\n",
    "#print(\"tensorB_logit : \", tensorB_logit)\n"
   ]
  },
  {
   "cell_type": "code",
   "execution_count": null,
   "id": "2eccd801",
   "metadata": {},
   "outputs": [],
   "source": [
    "tensorA = torch.randn(5,10)\n",
    "mask = torch.tensor([0,1])\n",
    "mm = torch.nn.Conv2d(3,3, 3)"
   ]
  },
  {
   "cell_type": "code",
   "execution_count": null,
   "id": "e2659584",
   "metadata": {},
   "outputs": [],
   "source": [
    "def laplacian_loss(output, gt, dist_type=\"l2\"):\n",
    "    \"\"\"\n",
    "    Computes the laplacian of the input and output grid and defines\n",
    "    regression loss.\n",
    "    :param output: predicted control points grid. Makes sure the orientation/\n",
    "    permutation of this output grid matches with the ground truth orientation.\n",
    "    This is done by finding the least cost orientation during training.\n",
    "    :param gt: gt control points grid.\n",
    "    \"\"\"\n",
    "    batch_size, grid_size, grid_size, input_channels = gt.shape\n",
    "    filter = ([[[0.0, 0.25, 0.0], [0.25, -1.0, 0.25], [0.0, 0.25, 0.0]],\n",
    "               [[0, 0, 0], [0, 0, 0], [0, 0, 0]],\n",
    "               [[0, 0, 0], [0, 0, 0], [0, 0, 0]]])\n",
    "    filter = np.stack([filter, np.roll(filter, 1, 0), np.roll(filter, 2, 0)])\n",
    "\n",
    "    filter = -np.array(filter, dtype=np.float32)\n",
    "    filter = Variable(torch.from_numpy(filter)).cuda()\n",
    "\n",
    "    laplacian_output = F.conv2d(output.permute(0, 3, 1, 2), filter, padding=1)\n",
    "    laplacian_input = F.conv2d(gt.permute(0, 3, 1, 2), filter, padding=1)\n",
    "    if dist_type == \"l2\":\n",
    "        dist = (laplacian_output - laplacian_input) ** 2\n",
    "    elif dist_type == \"l1\":\n",
    "        dist = torch.abs(laplacian_output - laplacian_input)\n",
    "    dist = torch.sum(dist, 1)\n",
    "    dist = torch.mean(dist)\n",
    "    return dist"
   ]
  },
  {
   "cell_type": "code",
   "execution_count": 8,
   "id": "b6323811",
   "metadata": {},
   "outputs": [
    {
     "name": "stdout",
     "output_type": "stream",
     "text": [
      "tensor([[0.7598, 0.0236, 0.2425],\n",
      "        [0.2166, 0.6806, 0.1716]])\n",
      "torch.Size([2, 3])\n",
      "tensor([[[0.7598, 0.0236, 0.2425],\n",
      "         [0.2166, 0.6806, 0.1716]]])\n",
      "torch.Size([2, 3])\n",
      "torch.Size([2, 3])\n"
     ]
    }
   ],
   "source": [
    "import torch\n",
    "\n",
    "testA = torch.rand(2,3)\n",
    "print(testA)\n",
    "print(testA.size())\n",
    "print(testA.unsqueeze(0))\n",
    "print(testA.size())\n",
    "torch.unsqueeze(testA, 0)\n",
    "print(testA.size())"
   ]
  },
  {
   "cell_type": "code",
   "execution_count": 9,
   "id": "140f0e09",
   "metadata": {},
   "outputs": [
    {
     "name": "stdout",
     "output_type": "stream",
     "text": [
      "tensor([[ 2.4000,  4.2000,  8.4000],\n",
      "        [19.2000, -5.6000, 39.6000]])\n"
     ]
    }
   ],
   "source": [
    "testB = torch.tensor([[2,3,4], [6,8,9]])\n",
    "testC = torch.tensor([[1.2, 1.4, 2.1], [3.2, -0.7, 4.4]])\n",
    "\n",
    "print(testB * testC)"
   ]
  },
  {
   "cell_type": "code",
   "execution_count": 10,
   "id": "7a986917",
   "metadata": {},
   "outputs": [
    {
     "name": "stdout",
     "output_type": "stream",
     "text": [
      "tensor([[2, 3, 4],\n",
      "        [6, 8, 9]])\n",
      "tensor([4, 9])\n"
     ]
    }
   ],
   "source": [
    "print(testB) # 2,3\n",
    "print(testB[..., 2])"
   ]
  },
  {
   "cell_type": "code",
   "execution_count": 12,
   "id": "7f73c7c0",
   "metadata": {},
   "outputs": [
    {
     "name": "stdout",
     "output_type": "stream",
     "text": [
      "tensor([[1, 2, 3],\n",
      "        [4, 5, 6],\n",
      "        [7, 8, 9]])\n",
      "tensor([3, 6, 9])\n"
     ]
    }
   ],
   "source": [
    "testD = torch.tensor([[1,2,3],[4,5,6],[7,8,9]])\n",
    "print(testD)\n",
    "print(testD[..., 2])"
   ]
  },
  {
   "cell_type": "code",
   "execution_count": 26,
   "id": "989d6d1c",
   "metadata": {},
   "outputs": [
    {
     "name": "stdout",
     "output_type": "stream",
     "text": [
      "tensor([3, 6, 9])\n",
      "torch.Size([3, 1])\n",
      "tensor([[3, 3, 3, 3],\n",
      "        [6, 6, 6, 6],\n",
      "        [9, 9, 9, 9]])\n"
     ]
    }
   ],
   "source": [
    "print(testD[...,2])\n",
    "print(testD[...,2].unsqueeze(1).size())\n",
    "print(testD[...,2].unsqueeze(1).expand(-1,4) )"
   ]
  },
  {
   "cell_type": "code",
   "execution_count": 37,
   "id": "1ad33c31",
   "metadata": {},
   "outputs": [
    {
     "name": "stdout",
     "output_type": "stream",
     "text": [
      "tensor([[0.9745, 0.6390, 0.9687, 0.1459, 0.3563],\n",
      "        [0.7651, 0.4066, 0.8709, 0.9489, 0.8819],\n",
      "        [0.7513, 0.7403, 0.4461, 0.9847, 0.6397]])\n",
      "torch.Size([3, 5])\n",
      "tensor([1., 1., 1.])\n",
      "sampleMatrix : \n",
      " tensor([[1., 0., 0.],\n",
      "        [0., 1., 0.],\n",
      "        [0., 0., 1.],\n",
      "        [0., 0., 0.],\n",
      "        [0., 0., 0.]])\n",
      "tensor([[0.9745, 0.6390, 0.9687],\n",
      "        [0.7651, 0.4066, 0.8709],\n",
      "        [0.7513, 0.7403, 0.4461]])\n"
     ]
    }
   ],
   "source": [
    "testE = torch.rand(3,5)\n",
    "print(testE)\n",
    "print(testE.size())\n",
    "temp = torch.ones(3)\n",
    "print(temp)\n",
    "sampleMatrix = torch.diag(temp)\n",
    "\n",
    "sampleMatrix = torch.cat((sampleMatrix, torch.zeros(2,3) ), dim = 0)\n",
    "\n",
    "print(\"sampleMatrix : \\n\", sampleMatrix)\n",
    "res = testE @ sampleMatrix\n",
    "print(res)\n",
    "\n"
   ]
  },
  {
   "cell_type": "code",
   "execution_count": 38,
   "id": "7bfa15a0",
   "metadata": {},
   "outputs": [
    {
     "name": "stdout",
     "output_type": "stream",
     "text": [
      "tensor([[1., 0., 0.],\n",
      "        [0., 1., 0.],\n",
      "        [0., 0., 1.],\n",
      "        [0., 0., 0.],\n",
      "        [0., 0., 0.]])\n"
     ]
    }
   ],
   "source": [
    "testB = torch.cat((torch.eye(3), torch.zeros(2,3)), dim = 0)\n",
    "print(testB)"
   ]
  },
  {
   "cell_type": "code",
   "execution_count": 3,
   "id": "1fc6065a",
   "metadata": {},
   "outputs": [
    {
     "name": "stdout",
     "output_type": "stream",
     "text": [
      "This is outputMasked : \n",
      " tensor([[-2.8353,  4.3820,  4.4387, -6.2966,  4.6793,  0.7990,  4.3285,  1.2427,\n",
      "          0.3055],\n",
      "        [ 3.2232, -3.2014, -3.2920,  4.9047,  0.0204, -3.5923, -4.5770,  1.8010,\n",
      "          2.1115],\n",
      "        [-6.7608, -4.8983, -0.9471, -4.7260, -4.2014,  0.5766, -2.6480,  3.9963,\n",
      "         -1.2265],\n",
      "        [ 0.8728,  0.9764,  1.6653, -2.0932, -1.2026,  2.9354, -4.7481,  1.1030,\n",
      "          1.9615],\n",
      "        [-0.0774,  4.0131, -5.1935,  3.8026, -0.7173,  5.4148,  0.7700, -1.3352,\n",
      "         -1.0732],\n",
      "        [ 4.5388,  0.6936,  2.3029, -1.9176, -0.8837, -0.2536, -2.0416, -1.4104,\n",
      "          5.8195]])\n",
      "wB.size() :  torch.Size([6, 3])\n",
      "wB :  tensor([[ 4.3285,  1.2427,  0.3055],\n",
      "        [-4.5770,  1.8010,  2.1115],\n",
      "        [-2.6480,  3.9963, -1.2265],\n",
      "        [-4.7481,  1.1030,  1.9615],\n",
      "        [ 0.7700, -1.3352, -1.0732],\n",
      "        [-2.0416, -1.4104,  5.8195]])\n",
      "tensor([-6.2966,  4.9047, -4.7260, -2.0932,  3.8026, -1.9176])\n"
     ]
    }
   ],
   "source": [
    "import torch\n",
    "import numpy\n",
    "\n",
    "outputMasked = torch.randn(6,9) *3\n",
    "print(\"This is outputMasked : \\n\", outputMasked)\n",
    "num_cpA = 1\n",
    "num_cpB = 2\n",
    "wB = outputMasked[..., (num_cpA*4 + num_cpB) : ] #\n",
    "print(\"wB.size() : \", wB.size())\n",
    "print(\"wB : \", wB)\n",
    "wB2 = outputMasked[..., 3]\n",
    "print(wB2)"
   ]
  },
  {
   "cell_type": "code",
   "execution_count": 9,
   "id": "ef94ed80",
   "metadata": {},
   "outputs": [
    {
     "name": "stdout",
     "output_type": "stream",
     "text": [
      "tensor([3, 6])\n"
     ]
    }
   ],
   "source": [
    "example = torch.tensor([[1,2,3], [4,5,6]])\n",
    "print(example[..., 2])"
   ]
  },
  {
   "cell_type": "code",
   "execution_count": 1,
   "id": "cde37409",
   "metadata": {},
   "outputs": [
    {
     "name": "stdout",
     "output_type": "stream",
     "text": [
      "tensor(1)\n",
      "tensor(1)\n",
      "1\n",
      "tensor(1)\n",
      "tensor(1)\n",
      "1\n"
     ]
    }
   ],
   "source": [
    "import torch\n",
    "\n",
    "tA = torch.tensor([[1,0], [1,2]])\n",
    "for i in range(2):\n",
    "    for j in range(2):\n",
    "        if tA[i][j].item() == 1:\n",
    "            print(tA[i][j])\n",
    "        if tA[i][j] == 1:\n",
    "            print(tA[i][j])\n",
    "        if tA[i][j].item() == 1:\n",
    "            print(tA[i][j].item())\n"
   ]
  },
  {
   "cell_type": "code",
   "execution_count": 29,
   "id": "9b16bafd",
   "metadata": {},
   "outputs": [
    {
     "name": "stdout",
     "output_type": "stream",
     "text": [
      "tensor([[1, 2, 3, 1, 2, 3],\n",
      "        [4, 5, 6, 4, 5, 6],\n",
      "        [1, 2, 3, 1, 2, 3],\n",
      "        [4, 5, 6, 4, 5, 6]])\n",
      "tensor([[0, 2, 3, 0, 2, 3],\n",
      "        [0, 5, 6, 0, 5, 6],\n",
      "        [0, 2, 3, 0, 2, 3],\n",
      "        [0, 5, 6, 0, 5, 6]])\n"
     ]
    }
   ],
   "source": [
    "# torch.nn.functional.upsample(example, scale_factor = 2, mode='nearest')\n",
    "m = example.repeat(2,2)\n",
    "tor = torch.zeros_like(example)\n",
    "# print(tor)\n",
    "# print(example[..., 1:])\n",
    "n = torch.cat((torch.zeros_like(example[..., :1]),example[..., 1:]), dim = 1).repeat(2,2)\n",
    "print(m)\n",
    "print(n)"
   ]
  },
  {
   "cell_type": "code",
   "execution_count": 52,
   "id": "bee96407",
   "metadata": {},
   "outputs": [
    {
     "name": "stdout",
     "output_type": "stream",
     "text": [
      "tensor([[[1., 1., 1., 1., 2., 2., 2., 2., 3., 3., 3., 3.],\n",
      "         [4., 4., 4., 4., 5., 5., 5., 5., 6., 6., 6., 6.]]])\n",
      "tensor([[1, 2, 3],\n",
      "        [4, 5, 6]])\n"
     ]
    },
    {
     "name": "stderr",
     "output_type": "stream",
     "text": [
      "/home/cloudest/anaconda3/envs/parsenet/lib/python3.6/site-packages/ipykernel_launcher.py:1: UserWarning: To copy construct from a tensor, it is recommended to use sourceTensor.clone().detach() or sourceTensor.clone().detach().requires_grad_(True), rather than torch.tensor(sourceTensor).\n",
      "  \"\"\"Entry point for launching an IPython kernel.\n"
     ]
    }
   ],
   "source": [
    "\n",
    "example3 = torch.tensor(example.unsqueeze(0), dtype = torch.float)\n",
    "m = torch.nn.functional.upsample(example3, scale_factor = 4, mode = 'nearest')\n",
    "print(m)\n",
    "print(example)\n"
   ]
  },
  {
   "cell_type": "code",
   "execution_count": 53,
   "id": "b1f8b1b3",
   "metadata": {},
   "outputs": [
    {
     "name": "stdout",
     "output_type": "stream",
     "text": [
      "tensor([[1., 1., 1., 1., 2., 2., 2., 2., 3., 3., 3., 3.],\n",
      "        [4., 4., 4., 4., 5., 5., 5., 5., 6., 6., 6., 6.]])\n"
     ]
    }
   ],
   "source": [
    "print(m.squeeze(0))"
   ]
  },
  {
   "cell_type": "code",
   "execution_count": 59,
   "id": "fb7beac4",
   "metadata": {},
   "outputs": [
    {
     "data": {
      "text/plain": [
       "tensor(5)"
      ]
     },
     "execution_count": 59,
     "metadata": {},
     "output_type": "execute_result"
    }
   ],
   "source": [
    "print(torch.sum(example[..., 0])"
   ]
  },
  {
   "cell_type": "code",
   "execution_count": 60,
   "id": "b13034da",
   "metadata": {},
   "outputs": [
    {
     "name": "stdout",
     "output_type": "stream",
     "text": [
      "tensor([[1.4685, 2.6025, 3.6450],\n",
      "        [4.4763, 5.8329, 6.6538]])\n"
     ]
    }
   ],
   "source": [
    "ex1 = torch.tensor([[1,2,3],[4,5,6]])\n",
    "ex2 = torch.rand(2,3)\n",
    "print(ex1 + ex2)"
   ]
  },
  {
   "cell_type": "code",
   "execution_count": 61,
   "id": "d6e04162",
   "metadata": {},
   "outputs": [
    {
     "name": "stdout",
     "output_type": "stream",
     "text": [
      "AProb : 0.7 BProb : 0.3\n"
     ]
    }
   ],
   "source": [
    "AProb = 0.7\n",
    "BProb = 0.3\n",
    "print(\"AProb : {0} BProb : {1}\".format(AProb, BProb))"
   ]
  },
  {
   "cell_type": "code",
   "execution_count": 82,
   "id": "d5a66708",
   "metadata": {},
   "outputs": [
    {
     "name": "stdout",
     "output_type": "stream",
     "text": [
      "ex1 : \n",
      " tensor([[1., 2., 3.],\n",
      "        [4., 5., 6.]])\n",
      "ex2 : \n",
      " tensor([[[1., 1., 1., 1., 2., 2., 2., 2., 3., 3., 3., 3.],\n",
      "         [4., 4., 4., 4., 5., 5., 5., 5., 6., 6., 6., 6.]]])\n",
      "ex3 : \n",
      " tensor([1., 2., 3., 4., 5., 6.])\n",
      "ex3Zero1 : \n",
      " tensor([0., 0., 0., 0., 0., 0., 1., 2., 3., 4., 5., 6.])\n",
      "tensor([[0., 0., 0., 0., 0., 0.],\n",
      "        [1., 2., 3., 4., 5., 6.]])\n"
     ]
    }
   ],
   "source": [
    "ex1 = ex1 = torch.tensor([[1,2,3],[4,5,6]], dtype = torch.float32)\n",
    "print(\"ex1 : \\n\", ex1)\n",
    "ex2 = torch.nn.functional.upsample(ex1.unsqueeze(0), scale_factor = 4, mode = 'nearest')\n",
    "ex3 = torch.flatten(ex1)\n",
    "zero1 = torch.zeros_like(ex3)\n",
    "print(\"ex2 : \\n\", ex2)\n",
    "print(\"ex3 : \\n\", ex3)\n",
    "ex3Zero1 = torch.cat((zero1, ex3), dim = 0)\n",
    "print(\"ex3Zero1 : \\n\", ex3Zero1)\n",
    "ex3Zero1Reshaped = ex3Zero1.view(2,6)\n",
    "print(ex3Zero1Reshaped)"
   ]
  },
  {
   "cell_type": "code",
   "execution_count": 97,
   "id": "995805e4",
   "metadata": {},
   "outputs": [
    {
     "name": "stdout",
     "output_type": "stream",
     "text": [
      "tensor([[[1.],\n",
      "         [2.],\n",
      "         [3.]],\n",
      "\n",
      "        [[4.],\n",
      "         [5.],\n",
      "         [6.]],\n",
      "\n",
      "        [[0.],\n",
      "         [0.],\n",
      "         [0.]],\n",
      "\n",
      "        [[0.],\n",
      "         [0.],\n",
      "         [0.]]])\n",
      "tensor([[[1.],\n",
      "         [2.],\n",
      "         [3.],\n",
      "         [0.],\n",
      "         [0.],\n",
      "         [0.]],\n",
      "\n",
      "        [[4.],\n",
      "         [5.],\n",
      "         [6.],\n",
      "         [0.],\n",
      "         [0.],\n",
      "         [0.]]])\n",
      "tensor([[[1., 0.],\n",
      "         [2., 0.],\n",
      "         [3., 0.]],\n",
      "\n",
      "        [[4., 0.],\n",
      "         [5., 0.],\n",
      "         [6., 0.]]])\n",
      "tensor([[1., 0., 2., 0.],\n",
      "        [3., 0., 4., 0.],\n",
      "        [5., 0., 6., 0.]])\n"
     ]
    }
   ],
   "source": [
    "ex4 = ex1.unsqueeze(2)\n",
    "#print(ex4)\n",
    "ex5 = torch.zeros_like(ex4)\n",
    "#print(ex5)\n",
    "\n",
    "print(torch.cat((ex4,ex5), dim = 0))\n",
    "print(torch.cat((ex4,ex5), dim = 1))\n",
    "z3 = torch.cat((ex4,ex5), dim = 2)\n",
    "print(z3)\n",
    "print(z3.view(3,4))"
   ]
  },
  {
   "cell_type": "code",
   "execution_count": 1,
   "id": "5f006382",
   "metadata": {},
   "outputs": [
    {
     "name": "stdout",
     "output_type": "stream",
     "text": [
      "ex1 : \n",
      " tensor([[1., 2., 3.],\n",
      "        [4., 5., 6.]])\n",
      "ex2 : \n",
      " tensor([[[1.],\n",
      "         [2.],\n",
      "         [3.]],\n",
      "\n",
      "        [[4.],\n",
      "         [5.],\n",
      "         [6.]]])\n",
      "ex2Zero : \n",
      " tensor([[[1., 0.],\n",
      "         [2., 0.],\n",
      "         [3., 0.]],\n",
      "\n",
      "        [[4., 0.],\n",
      "         [5., 0.],\n",
      "         [6., 0.]]])\n",
      "ex3 : \n",
      " tensor([[1., 0., 2., 0.],\n",
      "        [3., 0., 4., 0.],\n",
      "        [5., 0., 6., 0.]])\n",
      "ex2Zero3 : \n",
      " tensor([[[1., 0., 0., 0.],\n",
      "         [2., 0., 0., 0.],\n",
      "         [3., 0., 0., 0.]],\n",
      "\n",
      "        [[4., 0., 0., 0.],\n",
      "         [5., 0., 0., 0.],\n",
      "         [6., 0., 0., 0.]]])\n",
      "ex4 : \n",
      " tensor([[1., 0., 0., 0., 2., 0., 0., 0.],\n",
      "        [3., 0., 0., 0., 4., 0., 0., 0.],\n",
      "        [5., 0., 0., 0., 6., 0., 0., 0.]])\n",
      "zeroSamplingby4(ex1) :  tensor([[1., 0., 0., 0., 2., 0., 0., 0., 3., 0., 0., 0.],\n",
      "        [4., 0., 0., 0., 5., 0., 0., 0., 6., 0., 0., 0.]])\n"
     ]
    }
   ],
   "source": [
    "import torch\n",
    "\n",
    "ex1 = torch.tensor([[1,2,3],[4,5,6]], dtype = torch.float32)\n",
    "print(\"ex1 : \\n\", ex1)\n",
    "ex2 = ex1.unsqueeze(2)\n",
    "print(\"ex2 : \\n\", ex2)\n",
    "zeros = torch.zeros_like(ex2)\n",
    "ex2Zero = torch.cat((ex2, zeros), dim = 2)\n",
    "print(\"ex2Zero : \\n\", ex2Zero)\n",
    "ex3 = ex2Zero.view(3,4)\n",
    "print(\"ex3 : \\n\", ex3)\n",
    "\n",
    "zeros3 = torch.zeros((ex2.shape[0], ex2.shape[1], ex2.shape[2]*3))\n",
    "ex2Zero3 = torch.cat((ex2, zeros3), dim = 2)\n",
    "print(\"ex2Zero3 : \\n\", ex2Zero3)\n",
    "ex4 = ex2Zero3.view(3,8)\n",
    "print(\"ex4 : \\n\", ex4)\n",
    "\n",
    "def zeroSamplingby4(inp):\n",
    "    inpUnsqzd = inp.unsqueeze(2)\n",
    "    zeros = torch.zeros(inpUnsqzd.shape[0], inpUnsqzd.shape[1], inpUnsqzd.shape[2]*3)\n",
    "    inpZerosCat = torch.cat((inpUnsqzd, zeros), dim = 2)\n",
    "    out = inpZerosCat.view(-1,inp.shape[1]*4)\n",
    "    return out\n",
    "print(\"zeroSamplingby4(ex1) : \", zeroSamplingby4(ex1))"
   ]
  },
  {
   "cell_type": "code",
   "execution_count": 6,
   "id": "074b307a",
   "metadata": {},
   "outputs": [
    {
     "name": "stdout",
     "output_type": "stream",
     "text": [
      "tensor([[1., 2.],\n",
      "        [4., 5.]])\n",
      "tensor([[2., 3.],\n",
      "        [5., 6.]])\n"
     ]
    }
   ],
   "source": [
    "print(ex1[..., :2])\n",
    "print(ex1[..., 1:])"
   ]
  },
  {
   "cell_type": "code",
   "execution_count": 9,
   "id": "5303f1fc",
   "metadata": {},
   "outputs": [
    {
     "name": "stdout",
     "output_type": "stream",
     "text": [
      "torch.float32\n",
      "tensor([[0.8000, 2.1000, 3.4000, 2.7000],\n",
      "        [0.4000, 0.3000, 2.8000, 1.3000],\n",
      "        [4.3000, 2.3000, 3.8000, 1.8000],\n",
      "        [4.7000, 2.4000, 1.5000, 3.4000],\n",
      "        [1.7000, 3.2000, 1.3000, 3.3000],\n",
      "        [1.3000, 3.1000, 0.4000, 1.8000]])\n",
      "tensor([13.2000, 13.4000, 13.2000, 14.3000])\n",
      "tensor(3)\n"
     ]
    }
   ],
   "source": [
    "ex6 = torch.randint(50, (6,4)) * 0.1\n",
    "print(ex6.dtype)\n",
    "print(ex6)\n",
    "ex6Sum = torch.sum(ex6, dim = 0)\n",
    "print(ex6Sum)\n",
    "print(torch.argmax(ex6Sum))"
   ]
  },
  {
   "cell_type": "code",
   "execution_count": 11,
   "id": "3ba9980d",
   "metadata": {},
   "outputs": [
    {
     "name": "stdout",
     "output_type": "stream",
     "text": [
      "<class 'map'>\n",
      "[<class 'int'>, <class 'int'>, <class 'int'>, <class 'int'>]\n"
     ]
    }
   ],
   "source": [
    "ex7 = [1,2,3,4]\n",
    "# ls = [type(item) for item in ex7]\n",
    "# print(ls)\n",
    "ex7_str = ['1','2','3','4']\n",
    "ex7_strToList = map(int, ex7_str)\n",
    "print(type(ex7_strToList))\n",
    "len\n",
    "print([type(item) for item in ex7_strToList])"
   ]
  },
  {
   "cell_type": "code",
   "execution_count": 19,
   "id": "538f6259",
   "metadata": {},
   "outputs": [
    {
     "name": "stdout",
     "output_type": "stream",
     "text": [
      "tensor([1.7500, 3.5000, 5.2500, 7.0000, 8.7500])\n",
      "tensor([1.7500, 3.5000, 5.2500, 7.0000, 8.7500])\n",
      "tensor([1.7500, 3.5000, 5.2500, 7.0000, 8.7500])\n",
      "tensor([1.7500, 3.5000, 5.2500, 7.0000, 8.7500])\n",
      "tensor([1.7500, 3.5000, 5.2500, 7.0000, 8.7500])\n"
     ]
    }
   ],
   "source": [
    "import torch\n",
    "\n",
    "for e in range(5):\n",
    "    probSumTrain = torch.zeros(5, dtype=torch.float32)\n",
    "#     print(\"empty probSumTrain : \", probSumTrain)\n",
    "    for i in range(7):\n",
    "        training = torch.tensor([1,2,3,4,5])*0.1\n",
    "        probSumTrain += training\n",
    "    print(probSumTrain / 0.4)"
   ]
  },
  {
   "cell_type": "code",
   "execution_count": 21,
   "id": "504901eb",
   "metadata": {},
   "outputs": [
    {
     "name": "stdout",
     "output_type": "stream",
     "text": [
      "0.7000000476837158\n"
     ]
    }
   ],
   "source": [
    "print(probSumTrain[0].item())"
   ]
  },
  {
   "cell_type": "code",
   "execution_count": 2,
   "id": "64a6aea9",
   "metadata": {},
   "outputs": [
    {
     "name": "stdout",
     "output_type": "stream",
     "text": [
      "[[], [], [], [], []]\n"
     ]
    }
   ],
   "source": [
    "listA = [1,2,3,4,5]\n",
    "\n",
    "list1 = [[] for item in range(len(listA))]\n",
    "print(list1)"
   ]
  },
  {
   "cell_type": "code",
   "execution_count": 5,
   "id": "36019ff8",
   "metadata": {},
   "outputs": [
    {
     "name": "stdout",
     "output_type": "stream",
     "text": [
      "x : \n",
      " tensor([[0.9904, 0.8120, 0.3333, 0.9441],\n",
      "        [0.3408, 0.6465, 0.9966, 0.7904],\n",
      "        [0.6436, 0.0542, 0.3934, 0.6916],\n",
      "        [0.3230, 0.3169, 0.6989, 0.8590],\n",
      "        [0.9851, 0.7184, 0.4080, 0.1900]])\n",
      "loc : \n",
      " tensor([0, 1, 0, 0, 1], dtype=torch.uint8)\n",
      "y: \n",
      " tensor([[0.3408, 0.6465, 0.9966, 0.7904],\n",
      "        [0.9851, 0.7184, 0.4080, 0.1900]])\n"
     ]
    },
    {
     "name": "stderr",
     "output_type": "stream",
     "text": [
      "/home/cloudest/anaconda3/envs/parsenet/lib/python3.6/site-packages/ipykernel_launcher.py:6: UserWarning: indexing with dtype torch.uint8 is now deprecated, please use a dtype torch.bool instead. (Triggered internally at  /pytorch/aten/src/ATen/native/IndexingUtils.h:25.)\n",
      "  \n"
     ]
    }
   ],
   "source": [
    "import torch\n",
    "x = torch.rand(5,4)\n",
    "print('x : \\n', x)\n",
    "loc = torch.ByteTensor([0,1,0,0,1])\n",
    "print('loc : \\n', loc)\n",
    "y = x[loc]\n",
    "print('y: \\n', y)\n"
   ]
  },
  {
   "cell_type": "code",
   "execution_count": 87,
   "id": "900c39f0",
   "metadata": {},
   "outputs": [
    {
     "name": "stdout",
     "output_type": "stream",
     "text": [
      "tensor([0, 1, 2, 1, 1, 1, 2, 1, 3, 1])\n",
      "cpu\n"
     ]
    }
   ],
   "source": [
    "x2 = torch.tensor([[0.7, 0.2, 0.1, 0.0, 0.0],\n",
    "                   [0.3, 0.4, 0.1, 0.1, 0.1],\n",
    "                   [0.2, 0.3, 0.4, 0.0, 0.1],\n",
    "                   [0.1, 0.8, 0.1, 0.0, 0.0],\n",
    "                   [0.0, 0.7, 0.3, 0.0, 0.0],\n",
    "                   [0.2, 0.4, 0.1, 0.3, 0.0],\n",
    "                   [0.3, 0.1, 0.5, 0.0, 0.0],\n",
    "                   [0.2, 0.7, 0.0, 0.1, 0.0],\n",
    "                   [0.1, 0.1, 0.2, 0.4, 0.2],\n",
    "                   [0.0, 1.0, 0.0, 0.0, 0.0]])\n",
    "xArgmax = torch.argmax(x2, dim = 1)\n",
    "print(xArgmax) # argmax는 두 원소 값이 같으면 index가 먼저인 것, 즉 작은 것을 반환한다.\n",
    "print(x2.device)"
   ]
  },
  {
   "cell_type": "code",
   "execution_count": 78,
   "id": "b51618ef",
   "metadata": {
    "scrolled": true
   },
   "outputs": [
    {
     "name": "stdout",
     "output_type": "stream",
     "text": [
      "tensor([[0.3000, 0.4000, 0.1000, 0.1000, 0.1000],\n",
      "        [0.1000, 0.8000, 0.1000, 0.0000, 0.0000],\n",
      "        [0.0000, 0.7000, 0.3000, 0.0000, 0.0000],\n",
      "        [0.2000, 0.4000, 0.1000, 0.3000, 0.0000],\n",
      "        [0.0000, 1.0000, 0.0000, 0.0000, 0.0000]])\n",
      "tensor([0, 1, 2, 1, 1, 1, 2, 1, 3, 1])\n",
      "tensor([[0.3000, 0.4000, 0.1000, 0.1000, 0.1000],\n",
      "        [0.1000, 0.8000, 0.1000, 0.0000, 0.0000],\n",
      "        [0.0000, 0.7000, 0.3000, 0.0000, 0.0000],\n",
      "        [0.2000, 0.4000, 0.1000, 0.3000, 0.0000],\n",
      "        [0.2000, 0.7000, 0.0000, 0.1000, 0.0000],\n",
      "        [0.0000, 1.0000, 0.0000, 0.0000, 0.0000]])\n",
      "tensor([], size=(0, 5))\n",
      "tensor([[0.3000, 0.4000, 0.1000, 0.1000, 0.1000],\n",
      "        [0.1000, 0.8000, 0.1000, 0.0000, 0.0000],\n",
      "        [0.0000, 0.7000, 0.3000, 0.0000, 0.0000],\n",
      "        [0.2000, 0.4000, 0.1000, 0.3000, 0.0000],\n",
      "        [0.2000, 0.7000, 0.0000, 0.1000, 0.0000],\n",
      "        [0.0000, 1.0000, 0.0000, 0.0000, 0.0000]])\n",
      "tensor([False,  True, False,  True,  True,  True, False,  True, False,  True])\n"
     ]
    },
    {
     "name": "stderr",
     "output_type": "stream",
     "text": [
      "/home/cloudest/anaconda3/envs/parsenet/lib/python3.6/site-packages/ipykernel_launcher.py:2: UserWarning: indexing with dtype torch.uint8 is now deprecated, please use a dtype torch.bool instead. (Triggered internally at  /pytorch/aten/src/ATen/native/IndexingUtils.h:25.)\n",
      "  \n"
     ]
    }
   ],
   "source": [
    "##### for network 1 #####\n",
    "print(x2[torch.ByteTensor([0,1,0,1,1,1,0,0,0,1])]) # This is what I want\n",
    "##### OR #####\n",
    "x2Max, indices = torch.max(x2, dim =1)\n",
    "print(indices)\n",
    "print(x2[indices == 1])\n",
    "print(x2[indices == 4])\n",
    "\n",
    "print(x2[[1,3,4,5,7,9]])\n",
    "print(indices == 1)\n"
   ]
  },
  {
   "cell_type": "code",
   "execution_count": 79,
   "id": "7865e5dc",
   "metadata": {},
   "outputs": [],
   "source": [
    "x2List = [[0.7, 0.2, 0.1, 0.0, 0.0],\n",
    "                   [0.3, 0.4, 0.1, 0.1, 0.1],\n",
    "                   [0.2, 0.3, 0.4, 0.0, 0.1],\n",
    "                   [0.1, 0.8, 0.1, 0.0, 0.0],\n",
    "                   [0.0, 0.7, 0.3, 0.0, 0.0],\n",
    "                   [0.2, 0.4, 0.1, 0.3, 0.0],\n",
    "                   [0.3, 0.1, 0.5, 0.0, 0.0],\n",
    "                   [0.2, 0.7, 0.0, 0.1, 0.0],\n",
    "                   [0.1, 0.1, 0.2, 0.4, 0.2],\n",
    "                   [0.0, 1.0, 0.0, 0.0, 0.0]]"
   ]
  },
  {
   "cell_type": "code",
   "execution_count": 81,
   "id": "bf747010",
   "metadata": {},
   "outputs": [
    {
     "name": "stdout",
     "output_type": "stream",
     "text": [
      "tensor([[0.3000, 0.4000, 0.1000, 0.1000, 0.1000],\n",
      "        [0.1000, 0.8000, 0.1000, 0.0000, 0.0000],\n",
      "        [0.0000, 0.7000, 0.3000, 0.0000, 0.0000],\n",
      "        [0.2000, 0.4000, 0.1000, 0.3000, 0.0000],\n",
      "        [0.2000, 0.7000, 0.0000, 0.1000, 0.0000],\n",
      "        [0.0000, 1.0000, 0.0000, 0.0000, 0.0000]])\n"
     ]
    }
   ],
   "source": [
    "print(torch.tensor(x2List)\n",
    "      [indices == 1])"
   ]
  },
  {
   "cell_type": "code",
   "execution_count": 82,
   "id": "8ed2a14a",
   "metadata": {},
   "outputs": [
    {
     "name": "stdout",
     "output_type": "stream",
     "text": [
      "tensor([[0.3000, 0.4000, 0.1000, 0.1000, 0.1000],\n",
      "        [0.1000, 0.8000, 0.1000, 0.0000, 0.0000],\n",
      "        [0.0000, 0.7000, 0.3000, 0.0000, 0.0000],\n",
      "        [0.2000, 0.4000, 0.1000, 0.3000, 0.0000],\n",
      "        [0.2000, 0.7000, 0.0000, 0.1000, 0.0000],\n",
      "        [0.0000, 1.0000, 0.0000, 0.0000, 0.0000]])\n"
     ]
    }
   ],
   "source": [
    "import numpy as np\n",
    "\n",
    "x2Num = np.array(x2)\n",
    "print(x2[indices == 1])"
   ]
  },
  {
   "cell_type": "code",
   "execution_count": 83,
   "id": "d85f97c6",
   "metadata": {},
   "outputs": [
    {
     "ename": "ValueError",
     "evalue": "all input arrays must have the same shape",
     "output_type": "error",
     "traceback": [
      "\u001b[0;31m--------------------------------------------------------------------\u001b[0m",
      "\u001b[0;31mValueError\u001b[0m                         Traceback (most recent call last)",
      "\u001b[0;32m<ipython-input-83-25236b13ad55>\u001b[0m in \u001b[0;36m<module>\u001b[0;34m\u001b[0m\n\u001b[1;32m      2\u001b[0m \u001b[0mb\u001b[0m \u001b[0;34m=\u001b[0m \u001b[0mnp\u001b[0m\u001b[0;34m.\u001b[0m\u001b[0marray\u001b[0m\u001b[0;34m(\u001b[0m\u001b[0;34m[\u001b[0m\u001b[0;34m[\u001b[0m\u001b[0;36m5\u001b[0m\u001b[0;34m,\u001b[0m \u001b[0;36m6\u001b[0m\u001b[0;34m]\u001b[0m\u001b[0;34m]\u001b[0m\u001b[0;34m)\u001b[0m \u001b[0;31m# b.shape=(1, 2)\u001b[0m\u001b[0;34m\u001b[0m\u001b[0m\n\u001b[1;32m      3\u001b[0m \u001b[0;34m\u001b[0m\u001b[0m\n\u001b[0;32m----> 4\u001b[0;31m \u001b[0mabStack\u001b[0m \u001b[0;34m=\u001b[0m \u001b[0mnp\u001b[0m\u001b[0;34m.\u001b[0m\u001b[0mstack\u001b[0m\u001b[0;34m(\u001b[0m\u001b[0;34m(\u001b[0m\u001b[0ma\u001b[0m\u001b[0;34m,\u001b[0m\u001b[0mb\u001b[0m\u001b[0;34m)\u001b[0m\u001b[0;34m,\u001b[0m \u001b[0;36m0\u001b[0m\u001b[0;34m)\u001b[0m\u001b[0;34m\u001b[0m\u001b[0m\n\u001b[0m\u001b[1;32m      5\u001b[0m \u001b[0;34m\u001b[0m\u001b[0m\n\u001b[1;32m      6\u001b[0m \u001b[0mprint\u001b[0m\u001b[0;34m(\u001b[0m\u001b[0mabStack\u001b[0m\u001b[0;34m)\u001b[0m\u001b[0;34m\u001b[0m\u001b[0m\n",
      "\u001b[0;32m<__array_function__ internals>\u001b[0m in \u001b[0;36mstack\u001b[0;34m(*args, **kwargs)\u001b[0m\n",
      "\u001b[0;32m~/anaconda3/envs/parsenet/lib/python3.6/site-packages/numpy/core/shape_base.py\u001b[0m in \u001b[0;36mstack\u001b[0;34m(arrays, axis, out)\u001b[0m\n\u001b[1;32m    425\u001b[0m     \u001b[0mshapes\u001b[0m \u001b[0;34m=\u001b[0m \u001b[0;34m{\u001b[0m\u001b[0marr\u001b[0m\u001b[0;34m.\u001b[0m\u001b[0mshape\u001b[0m \u001b[0;32mfor\u001b[0m \u001b[0marr\u001b[0m \u001b[0;32min\u001b[0m \u001b[0marrays\u001b[0m\u001b[0;34m}\u001b[0m\u001b[0;34m\u001b[0m\u001b[0m\n\u001b[1;32m    426\u001b[0m     \u001b[0;32mif\u001b[0m \u001b[0mlen\u001b[0m\u001b[0;34m(\u001b[0m\u001b[0mshapes\u001b[0m\u001b[0;34m)\u001b[0m \u001b[0;34m!=\u001b[0m \u001b[0;36m1\u001b[0m\u001b[0;34m:\u001b[0m\u001b[0;34m\u001b[0m\u001b[0m\n\u001b[0;32m--> 427\u001b[0;31m         \u001b[0;32mraise\u001b[0m \u001b[0mValueError\u001b[0m\u001b[0;34m(\u001b[0m\u001b[0;34m'all input arrays must have the same shape'\u001b[0m\u001b[0;34m)\u001b[0m\u001b[0;34m\u001b[0m\u001b[0m\n\u001b[0m\u001b[1;32m    428\u001b[0m \u001b[0;34m\u001b[0m\u001b[0m\n\u001b[1;32m    429\u001b[0m     \u001b[0mresult_ndim\u001b[0m \u001b[0;34m=\u001b[0m \u001b[0marrays\u001b[0m\u001b[0;34m[\u001b[0m\u001b[0;36m0\u001b[0m\u001b[0;34m]\u001b[0m\u001b[0;34m.\u001b[0m\u001b[0mndim\u001b[0m \u001b[0;34m+\u001b[0m \u001b[0;36m1\u001b[0m\u001b[0;34m\u001b[0m\u001b[0m\n",
      "\u001b[0;31mValueError\u001b[0m: all input arrays must have the same shape"
     ]
    }
   ],
   "source": [
    "a = np.array([[1, 2], [3, 4]]) # a.shape=(2, 2)\n",
    "b = np.array([[5, 6]]) # b.shape=(1, 2)\n",
    "\n",
    "abStack = np.stack((a,b), 0)\n",
    "\n",
    "print(abStack)\n"
   ]
  },
  {
   "cell_type": "code",
   "execution_count": 100,
   "id": "e4b8eeda",
   "metadata": {},
   "outputs": [
    {
     "name": "stdout",
     "output_type": "stream",
     "text": [
      "scales_torch :\n",
      " tensor([[0.0683, 0.9202, 1.0961]])\n",
      "scales_tensor[0] :\n",
      " tensor([[0.0683, 0.9202, 1.0961]])\n",
      "torch.Size([9, 1, 3])\n",
      "scales_numpy :\n",
      " [[[0.0683 0.9202 1.0961]]\n",
      "\n",
      " [[0.4122 0.9997 0.7656]]\n",
      "\n",
      " [[0.1657 0.3025 0.9997]]\n",
      "\n",
      " [[0.0117 0.8207 0.653 ]]\n",
      "\n",
      " [[0.193  0.4365 1.0564]]\n",
      "\n",
      " [[0.0066 0.1864 0.9978]]\n",
      "\n",
      " [[0.1757 1.0406 0.7988]]\n",
      "\n",
      " [[0.0023 0.9993 0.0222]]\n",
      "\n",
      " [[0.0091 0.4855 1.0033]]]\n",
      "scales_numpy size :\n",
      " (9, 1, 3)\n",
      "scales_torch :\n",
      " tensor([[0.0683, 0.9202, 1.0961]])\n",
      "scales_torch size :\n",
      " torch.Size([1, 3])\n"
     ]
    }
   ],
   "source": [
    "import numpy as np\n",
    "import torch\n",
    "\n",
    "scales = [[[0.0683, 0.9202, 1.0961]], [[0.4122, 0.9997, 0.7656]],[[0.1657, 0.3025, 0.9997]], \n",
    "          [[0.0117, 0.8207, 0.653 ]], [[0.193 , 0.4365, 1.0564]],[[0.0066, 0.1864, 0.9978]], \n",
    "          [[0.1757, 1.0406, 0.7988]], [[0.0023, 0.9993, 0.0222]], [[0.0091, 0.4855, 1.0033]]]\n",
    "''', array([[0.1623, 0.6097, 0.7742]]), array([[0.0753, 0.5742, 0.9992]]), array([[0.4752, 0.8525, 1.0026]]), array([[0.1385, 0.9416, 0.6873]]), array([[1.9151e-08, 5.5213e-02, 9.9936e-01]]), array([[5.7001e-16, 2.0874e-01, 9.9911e-01]]), array([[3.5620e-16, 4.2841e-01, 9.9942e-01]]), array([[0.    , 0.9999, 0.9989]], dtype=float32), array([[0.031 , 1.5152, 0.8681]]), array([[0.2866, 0.9399, 1.3832]]), array([[0.1289, 0.1888, 1.075 ]]), array([[4.6026e-16, 4.4031e-01, 9.9979e-01]], dtype=float32), array([[0.2397, 0.7745, 0.9773]]), array([[0.3603, 0.7835, 0.9992]]), array([[0.0927, 0.9704, 0.3847]]), array([[0.0292, 0.9992, 0.0693]]), array([[0.3669, 1.3028, 1.0076]]), array([[0.0441, 0.5622, 0.9734]]), array([[0.0746, 0.9964, 1.1769]]), array([[0.0036, 0.0347, 0.9997]]), array([[0.1953, 0.9857, 1.0221]]), array([[0.2239, 0.8783, 1.0286]]), array([[0.0632, 0.9463, 1.0496]]), array([[0.1565, 1.2723, 1.0619]]), array([[0.1226, 1.1816, 1.0474]]), array([[0.4109, 0.8148, 0.9988]]), array([[0.0536, 0.8876, 0.9056]])]'''\n",
    "\n",
    "scales_numpy = np.stack(scales, 0).astype(np.float32)\n",
    "scales_tensor = torch.tensor(scales, dtype = torch.float32)\n",
    "\n",
    "scales_torch = scales_tensor[0]\n",
    "\n",
    "print(\"scales_torch :\\n\", scales_torch)\n",
    "print(\"scales_tensor[0] :\\n\", scales_tensor[0])\n",
    "\n",
    "# for i in range(1, len(scales_tensor)):\n",
    "#     temp = scales_tensor[i]\n",
    "#     print(\"temp :\\n\", temp)\n",
    "#     print(\"scales_torch :\\n\", scales_torch)\n",
    "#     scales_torch = torch.stack((temp, scales_torch), dim = 0)\n",
    "scales_tensor.view() # 9, 1,3\n",
    "\n",
    "\n",
    "print(\"scales_numpy :\\n\", scales_numpy)\n",
    "print(\"scales_numpy size :\\n\", scales_numpy.shape)\n",
    "print(\"scales_torch :\\n\", scales_torch)\n",
    "print(\"scales_torch size :\\n\", scales_torch.shape)\n",
    "\n",
    "\n",
    "#print(\"scales_torch : \", scales_torch)"
   ]
  },
  {
   "cell_type": "code",
   "execution_count": null,
   "id": "ab2b14e9",
   "metadata": {},
   "outputs": [],
   "source": []
  }
 ],
 "metadata": {
  "kernelspec": {
   "display_name": "Python 3",
   "language": "python",
   "name": "python3"
  },
  "language_info": {
   "codemirror_mode": {
    "name": "ipython",
    "version": 3
   },
   "file_extension": ".py",
   "mimetype": "text/x-python",
   "name": "python",
   "nbconvert_exporter": "python",
   "pygments_lexer": "ipython3",
   "version": "3.6.6"
  }
 },
 "nbformat": 4,
 "nbformat_minor": 5
}
